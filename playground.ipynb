{
 "cells": [
  {
   "cell_type": "code",
   "execution_count": 3,
   "metadata": {},
   "outputs": [],
   "source": [
    "from rlhf.idpg import IDPGPromptGenerator\n",
    "import torch\n"
   ]
  },
  {
   "cell_type": "code",
   "execution_count": 4,
   "metadata": {},
   "outputs": [],
   "source": [
    "d = 10\n",
    "t = 5\n",
    "m = 3\n",
    "\n",
    "pg = IDPGPromptGenerator(d, m, t)"
   ]
  },
  {
   "cell_type": "code",
   "execution_count": 6,
   "metadata": {},
   "outputs": [
    {
     "data": {
      "text/plain": [
       "[tensor([ 0.1631, -0.4359,  0.0722,  0.1275, -0.2227, -0.1458,  0.0162, -0.2365,\n",
       "         -0.1709,  0.3248], grad_fn=<ViewBackward0>),\n",
       " tensor([ 0.1486, -0.4718, -0.0700,  0.4408, -0.0450, -0.1649,  0.0579,  0.2615,\n",
       "          0.4335, -0.4168], grad_fn=<ViewBackward0>),\n",
       " tensor([-0.3492,  0.2165, -0.4551,  0.5103,  0.1816,  0.0853, -0.3421, -0.2208,\n",
       "          0.1167, -0.2940], grad_fn=<ViewBackward0>),\n",
       " tensor([ 0.1305,  0.0850,  0.2129,  0.5201,  0.2160,  0.2339,  0.2627, -0.0876,\n",
       "          0.5306, -0.2927], grad_fn=<ViewBackward0>),\n",
       " tensor([ 0.2104, -0.5195, -0.4981, -0.0587,  0.0844, -0.3291, -0.2922,  0.0584,\n",
       "          0.3818, -0.0329], grad_fn=<ViewBackward0>)]"
      ]
     },
     "execution_count": 6,
     "metadata": {},
     "output_type": "execute_result"
    }
   ],
   "source": [
    "x = torch.rand(d)\n",
    "y = pg(x)\n",
    "y"
   ]
  },
  {
   "cell_type": "code",
   "execution_count": null,
   "metadata": {},
   "outputs": [],
   "source": []
  }
 ],
 "metadata": {
  "kernelspec": {
   "display_name": "rlhf",
   "language": "python",
   "name": "python3"
  },
  "language_info": {
   "codemirror_mode": {
    "name": "ipython",
    "version": 3
   },
   "file_extension": ".py",
   "mimetype": "text/x-python",
   "name": "python",
   "nbconvert_exporter": "python",
   "pygments_lexer": "ipython3",
   "version": "3.10.13"
  }
 },
 "nbformat": 4,
 "nbformat_minor": 2
}
